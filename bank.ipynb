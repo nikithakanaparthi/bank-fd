{
  "nbformat": 4,
  "nbformat_minor": 0,
  "metadata": {
    "colab": {
      "provenance": [],
      "toc_visible": true
    },
    "kernelspec": {
      "name": "python3",
      "display_name": "Python 3"
    },
    "language_info": {
      "name": "python"
    }
  },
  "cells": [
    {
      "cell_type": "markdown",
      "metadata": {
        "id": "tDO7wRaOgPPo"
      },
      "source": [
        "\n",
        "\n",
        "```\n",
        "# This is formatted as code\n",
        "```\n",
        "\n",
        "AP18110010141, \n",
        "AP18110010143"
      ]
    },
    {
      "cell_type": "markdown",
      "metadata": {
        "id": "sbJj37o0koxV"
      },
      "source": [
        "# **IMPLEMENTATION**: \n",
        "\n",
        "### **Data preprocessing and Model using the following dataset.**\n",
        "**https://www.kaggle.com/janiobachmann/bank-marketing-dataset**"
      ]
    },
    {
      "cell_type": "markdown",
      "metadata": {
        "id": "2RvdgxXYkEjr"
      },
      "source": [
        "**Importing all the required libraries.**"
      ]
    },
    {
      "cell_type": "code",
      "metadata": {
        "id": "79YrAgrsUAhq"
      },
      "source": [
        "import pandas as pd\n",
        "import numpy as np\n",
        "import matplotlib.pyplot as plt\n",
        "import seaborn as sns"
      ],
      "execution_count": null,
      "outputs": []
    },
    {
      "cell_type": "code",
      "metadata": {
        "id": "xLTdbEOcmcmV"
      },
      "source": [
        "#creating a data frame to read the data set.\n",
        "df = pd.read_csv('bank.csv')"
      ],
      "execution_count": null,
      "outputs": []
    },
    {
      "cell_type": "code",
      "metadata": {
        "colab": {
          "base_uri": "https://localhost:8080/",
          "height": 224
        },
        "id": "dkI9o2UBm0kS",
        "outputId": "6fab5699-f15e-40a4-a8ba-e4f471a8c681"
      },
      "source": [
        "#representing first five rows from the data frame.\n",
        "df.head()"
      ],
      "execution_count": null,
      "outputs": [
        {
          "output_type": "execute_result",
          "data": {
            "text/html": [
              "<div>\n",
              "<style scoped>\n",
              "    .dataframe tbody tr th:only-of-type {\n",
              "        vertical-align: middle;\n",
              "    }\n",
              "\n",
              "    .dataframe tbody tr th {\n",
              "        vertical-align: top;\n",
              "    }\n",
              "\n",
              "    .dataframe thead th {\n",
              "        text-align: right;\n",
              "    }\n",
              "</style>\n",
              "<table border=\"1\" class=\"dataframe\">\n",
              "  <thead>\n",
              "    <tr style=\"text-align: right;\">\n",
              "      <th></th>\n",
              "      <th>age</th>\n",
              "      <th>job</th>\n",
              "      <th>marital</th>\n",
              "      <th>education</th>\n",
              "      <th>default</th>\n",
              "      <th>balance</th>\n",
              "      <th>housing</th>\n",
              "      <th>loan</th>\n",
              "      <th>contact</th>\n",
              "      <th>day</th>\n",
              "      <th>month</th>\n",
              "      <th>duration</th>\n",
              "      <th>campaign</th>\n",
              "      <th>pdays</th>\n",
              "      <th>previous</th>\n",
              "      <th>poutcome</th>\n",
              "      <th>deposit</th>\n",
              "    </tr>\n",
              "  </thead>\n",
              "  <tbody>\n",
              "    <tr>\n",
              "      <th>0</th>\n",
              "      <td>59</td>\n",
              "      <td>admin.</td>\n",
              "      <td>married</td>\n",
              "      <td>secondary</td>\n",
              "      <td>no</td>\n",
              "      <td>2343</td>\n",
              "      <td>yes</td>\n",
              "      <td>no</td>\n",
              "      <td>unknown</td>\n",
              "      <td>5</td>\n",
              "      <td>may</td>\n",
              "      <td>1042</td>\n",
              "      <td>1</td>\n",
              "      <td>-1</td>\n",
              "      <td>0</td>\n",
              "      <td>unknown</td>\n",
              "      <td>yes</td>\n",
              "    </tr>\n",
              "    <tr>\n",
              "      <th>1</th>\n",
              "      <td>56</td>\n",
              "      <td>admin.</td>\n",
              "      <td>married</td>\n",
              "      <td>secondary</td>\n",
              "      <td>no</td>\n",
              "      <td>45</td>\n",
              "      <td>no</td>\n",
              "      <td>no</td>\n",
              "      <td>unknown</td>\n",
              "      <td>5</td>\n",
              "      <td>may</td>\n",
              "      <td>1467</td>\n",
              "      <td>1</td>\n",
              "      <td>-1</td>\n",
              "      <td>0</td>\n",
              "      <td>unknown</td>\n",
              "      <td>yes</td>\n",
              "    </tr>\n",
              "    <tr>\n",
              "      <th>2</th>\n",
              "      <td>41</td>\n",
              "      <td>technician</td>\n",
              "      <td>married</td>\n",
              "      <td>secondary</td>\n",
              "      <td>no</td>\n",
              "      <td>1270</td>\n",
              "      <td>yes</td>\n",
              "      <td>no</td>\n",
              "      <td>unknown</td>\n",
              "      <td>5</td>\n",
              "      <td>may</td>\n",
              "      <td>1389</td>\n",
              "      <td>1</td>\n",
              "      <td>-1</td>\n",
              "      <td>0</td>\n",
              "      <td>unknown</td>\n",
              "      <td>yes</td>\n",
              "    </tr>\n",
              "    <tr>\n",
              "      <th>3</th>\n",
              "      <td>55</td>\n",
              "      <td>services</td>\n",
              "      <td>married</td>\n",
              "      <td>secondary</td>\n",
              "      <td>no</td>\n",
              "      <td>2476</td>\n",
              "      <td>yes</td>\n",
              "      <td>no</td>\n",
              "      <td>unknown</td>\n",
              "      <td>5</td>\n",
              "      <td>may</td>\n",
              "      <td>579</td>\n",
              "      <td>1</td>\n",
              "      <td>-1</td>\n",
              "      <td>0</td>\n",
              "      <td>unknown</td>\n",
              "      <td>yes</td>\n",
              "    </tr>\n",
              "    <tr>\n",
              "      <th>4</th>\n",
              "      <td>54</td>\n",
              "      <td>admin.</td>\n",
              "      <td>married</td>\n",
              "      <td>tertiary</td>\n",
              "      <td>no</td>\n",
              "      <td>184</td>\n",
              "      <td>no</td>\n",
              "      <td>no</td>\n",
              "      <td>unknown</td>\n",
              "      <td>5</td>\n",
              "      <td>may</td>\n",
              "      <td>673</td>\n",
              "      <td>2</td>\n",
              "      <td>-1</td>\n",
              "      <td>0</td>\n",
              "      <td>unknown</td>\n",
              "      <td>yes</td>\n",
              "    </tr>\n",
              "  </tbody>\n",
              "</table>\n",
              "</div>"
            ],
            "text/plain": [
              "   age         job  marital  education  ... pdays  previous poutcome deposit\n",
              "0   59      admin.  married  secondary  ...    -1         0  unknown     yes\n",
              "1   56      admin.  married  secondary  ...    -1         0  unknown     yes\n",
              "2   41  technician  married  secondary  ...    -1         0  unknown     yes\n",
              "3   55    services  married  secondary  ...    -1         0  unknown     yes\n",
              "4   54      admin.  married   tertiary  ...    -1         0  unknown     yes\n",
              "\n",
              "[5 rows x 17 columns]"
            ]
          },
          "metadata": {
            "tags": []
          },
          "execution_count": 40
        }
      ]
    },
    {
      "cell_type": "code",
      "metadata": {
        "colab": {
          "base_uri": "https://localhost:8080/",
          "height": 241
        },
        "id": "W8graJQWner9",
        "outputId": "60953e4c-669a-4648-d798-04cedda22b2f"
      },
      "source": [
        "#representing the last 5 rows from the data frame to check the number of rows and the correctness of the dataset.\n",
        "df.tail()"
      ],
      "execution_count": null,
      "outputs": [
        {
          "output_type": "execute_result",
          "data": {
            "text/html": [
              "<div>\n",
              "<style scoped>\n",
              "    .dataframe tbody tr th:only-of-type {\n",
              "        vertical-align: middle;\n",
              "    }\n",
              "\n",
              "    .dataframe tbody tr th {\n",
              "        vertical-align: top;\n",
              "    }\n",
              "\n",
              "    .dataframe thead th {\n",
              "        text-align: right;\n",
              "    }\n",
              "</style>\n",
              "<table border=\"1\" class=\"dataframe\">\n",
              "  <thead>\n",
              "    <tr style=\"text-align: right;\">\n",
              "      <th></th>\n",
              "      <th>age</th>\n",
              "      <th>job</th>\n",
              "      <th>marital</th>\n",
              "      <th>education</th>\n",
              "      <th>default</th>\n",
              "      <th>balance</th>\n",
              "      <th>housing</th>\n",
              "      <th>loan</th>\n",
              "      <th>contact</th>\n",
              "      <th>day</th>\n",
              "      <th>month</th>\n",
              "      <th>duration</th>\n",
              "      <th>campaign</th>\n",
              "      <th>pdays</th>\n",
              "      <th>previous</th>\n",
              "      <th>poutcome</th>\n",
              "      <th>deposit</th>\n",
              "    </tr>\n",
              "  </thead>\n",
              "  <tbody>\n",
              "    <tr>\n",
              "      <th>11157</th>\n",
              "      <td>33</td>\n",
              "      <td>blue-collar</td>\n",
              "      <td>single</td>\n",
              "      <td>primary</td>\n",
              "      <td>no</td>\n",
              "      <td>1</td>\n",
              "      <td>yes</td>\n",
              "      <td>no</td>\n",
              "      <td>cellular</td>\n",
              "      <td>20</td>\n",
              "      <td>apr</td>\n",
              "      <td>257</td>\n",
              "      <td>1</td>\n",
              "      <td>-1</td>\n",
              "      <td>0</td>\n",
              "      <td>unknown</td>\n",
              "      <td>no</td>\n",
              "    </tr>\n",
              "    <tr>\n",
              "      <th>11158</th>\n",
              "      <td>39</td>\n",
              "      <td>services</td>\n",
              "      <td>married</td>\n",
              "      <td>secondary</td>\n",
              "      <td>no</td>\n",
              "      <td>733</td>\n",
              "      <td>no</td>\n",
              "      <td>no</td>\n",
              "      <td>unknown</td>\n",
              "      <td>16</td>\n",
              "      <td>jun</td>\n",
              "      <td>83</td>\n",
              "      <td>4</td>\n",
              "      <td>-1</td>\n",
              "      <td>0</td>\n",
              "      <td>unknown</td>\n",
              "      <td>no</td>\n",
              "    </tr>\n",
              "    <tr>\n",
              "      <th>11159</th>\n",
              "      <td>32</td>\n",
              "      <td>technician</td>\n",
              "      <td>single</td>\n",
              "      <td>secondary</td>\n",
              "      <td>no</td>\n",
              "      <td>29</td>\n",
              "      <td>no</td>\n",
              "      <td>no</td>\n",
              "      <td>cellular</td>\n",
              "      <td>19</td>\n",
              "      <td>aug</td>\n",
              "      <td>156</td>\n",
              "      <td>2</td>\n",
              "      <td>-1</td>\n",
              "      <td>0</td>\n",
              "      <td>unknown</td>\n",
              "      <td>no</td>\n",
              "    </tr>\n",
              "    <tr>\n",
              "      <th>11160</th>\n",
              "      <td>43</td>\n",
              "      <td>technician</td>\n",
              "      <td>married</td>\n",
              "      <td>secondary</td>\n",
              "      <td>no</td>\n",
              "      <td>0</td>\n",
              "      <td>no</td>\n",
              "      <td>yes</td>\n",
              "      <td>cellular</td>\n",
              "      <td>8</td>\n",
              "      <td>may</td>\n",
              "      <td>9</td>\n",
              "      <td>2</td>\n",
              "      <td>172</td>\n",
              "      <td>5</td>\n",
              "      <td>failure</td>\n",
              "      <td>no</td>\n",
              "    </tr>\n",
              "    <tr>\n",
              "      <th>11161</th>\n",
              "      <td>34</td>\n",
              "      <td>technician</td>\n",
              "      <td>married</td>\n",
              "      <td>secondary</td>\n",
              "      <td>no</td>\n",
              "      <td>0</td>\n",
              "      <td>no</td>\n",
              "      <td>no</td>\n",
              "      <td>cellular</td>\n",
              "      <td>9</td>\n",
              "      <td>jul</td>\n",
              "      <td>628</td>\n",
              "      <td>1</td>\n",
              "      <td>-1</td>\n",
              "      <td>0</td>\n",
              "      <td>unknown</td>\n",
              "      <td>no</td>\n",
              "    </tr>\n",
              "  </tbody>\n",
              "</table>\n",
              "</div>"
            ],
            "text/plain": [
              "       age          job  marital  education  ... pdays  previous poutcome deposit\n",
              "11157   33  blue-collar   single    primary  ...    -1         0  unknown      no\n",
              "11158   39     services  married  secondary  ...    -1         0  unknown      no\n",
              "11159   32   technician   single  secondary  ...    -1         0  unknown      no\n",
              "11160   43   technician  married  secondary  ...   172         5  failure      no\n",
              "11161   34   technician  married  secondary  ...    -1         0  unknown      no\n",
              "\n",
              "[5 rows x 17 columns]"
            ]
          },
          "metadata": {
            "tags": []
          },
          "execution_count": 41
        }
      ]
    },
    {
      "cell_type": "code",
      "metadata": {
        "colab": {
          "base_uri": "https://localhost:8080/"
        },
        "id": "n_xyVI3knxFd",
        "outputId": "63b8d567-5cac-4cfa-99cc-cdab2ed09d0e"
      },
      "source": [
        "# checking the data frame structure.\n",
        "df.info()"
      ],
      "execution_count": null,
      "outputs": [
        {
          "output_type": "stream",
          "text": [
            "<class 'pandas.core.frame.DataFrame'>\n",
            "RangeIndex: 11162 entries, 0 to 11161\n",
            "Data columns (total 17 columns):\n",
            " #   Column     Non-Null Count  Dtype \n",
            "---  ------     --------------  ----- \n",
            " 0   age        11162 non-null  int64 \n",
            " 1   job        11162 non-null  object\n",
            " 2   marital    11162 non-null  object\n",
            " 3   education  11162 non-null  object\n",
            " 4   default    11162 non-null  object\n",
            " 5   balance    11162 non-null  int64 \n",
            " 6   housing    11162 non-null  object\n",
            " 7   loan       11162 non-null  object\n",
            " 8   contact    11162 non-null  object\n",
            " 9   day        11162 non-null  int64 \n",
            " 10  month      11162 non-null  object\n",
            " 11  duration   11162 non-null  int64 \n",
            " 12  campaign   11162 non-null  int64 \n",
            " 13  pdays      11162 non-null  int64 \n",
            " 14  previous   11162 non-null  int64 \n",
            " 15  poutcome   11162 non-null  object\n",
            " 16  deposit    11162 non-null  object\n",
            "dtypes: int64(7), object(10)\n",
            "memory usage: 1.4+ MB\n"
          ],
          "name": "stdout"
        }
      ]
    },
    {
      "cell_type": "code",
      "metadata": {
        "colab": {
          "base_uri": "https://localhost:8080/"
        },
        "id": "NQT_50gpn5SZ",
        "outputId": "4b24db04-1807-469e-ca19-004a08bbb071"
      },
      "source": [
        "# finding the number of rows and columns.\n",
        "df.shape"
      ],
      "execution_count": null,
      "outputs": [
        {
          "output_type": "execute_result",
          "data": {
            "text/plain": [
              "(11162, 17)"
            ]
          },
          "metadata": {
            "tags": []
          },
          "execution_count": 43
        }
      ]
    },
    {
      "cell_type": "code",
      "metadata": {
        "colab": {
          "base_uri": "https://localhost:8080/",
          "height": 297
        },
        "id": "6MgVRyLWoF5L",
        "outputId": "479ef3a2-7c09-4282-b740-2a03d3df1e21"
      },
      "source": [
        "# describing all the numerical columns in the data frame.\n",
        "df.describe()"
      ],
      "execution_count": null,
      "outputs": [
        {
          "output_type": "execute_result",
          "data": {
            "text/html": [
              "<div>\n",
              "<style scoped>\n",
              "    .dataframe tbody tr th:only-of-type {\n",
              "        vertical-align: middle;\n",
              "    }\n",
              "\n",
              "    .dataframe tbody tr th {\n",
              "        vertical-align: top;\n",
              "    }\n",
              "\n",
              "    .dataframe thead th {\n",
              "        text-align: right;\n",
              "    }\n",
              "</style>\n",
              "<table border=\"1\" class=\"dataframe\">\n",
              "  <thead>\n",
              "    <tr style=\"text-align: right;\">\n",
              "      <th></th>\n",
              "      <th>age</th>\n",
              "      <th>balance</th>\n",
              "      <th>day</th>\n",
              "      <th>duration</th>\n",
              "      <th>campaign</th>\n",
              "      <th>pdays</th>\n",
              "      <th>previous</th>\n",
              "    </tr>\n",
              "  </thead>\n",
              "  <tbody>\n",
              "    <tr>\n",
              "      <th>count</th>\n",
              "      <td>11162.000000</td>\n",
              "      <td>11162.000000</td>\n",
              "      <td>11162.000000</td>\n",
              "      <td>11162.000000</td>\n",
              "      <td>11162.000000</td>\n",
              "      <td>11162.000000</td>\n",
              "      <td>11162.000000</td>\n",
              "    </tr>\n",
              "    <tr>\n",
              "      <th>mean</th>\n",
              "      <td>41.231948</td>\n",
              "      <td>1528.538524</td>\n",
              "      <td>15.658036</td>\n",
              "      <td>371.993818</td>\n",
              "      <td>2.508421</td>\n",
              "      <td>51.330407</td>\n",
              "      <td>0.832557</td>\n",
              "    </tr>\n",
              "    <tr>\n",
              "      <th>std</th>\n",
              "      <td>11.913369</td>\n",
              "      <td>3225.413326</td>\n",
              "      <td>8.420740</td>\n",
              "      <td>347.128386</td>\n",
              "      <td>2.722077</td>\n",
              "      <td>108.758282</td>\n",
              "      <td>2.292007</td>\n",
              "    </tr>\n",
              "    <tr>\n",
              "      <th>min</th>\n",
              "      <td>18.000000</td>\n",
              "      <td>-6847.000000</td>\n",
              "      <td>1.000000</td>\n",
              "      <td>2.000000</td>\n",
              "      <td>1.000000</td>\n",
              "      <td>-1.000000</td>\n",
              "      <td>0.000000</td>\n",
              "    </tr>\n",
              "    <tr>\n",
              "      <th>25%</th>\n",
              "      <td>32.000000</td>\n",
              "      <td>122.000000</td>\n",
              "      <td>8.000000</td>\n",
              "      <td>138.000000</td>\n",
              "      <td>1.000000</td>\n",
              "      <td>-1.000000</td>\n",
              "      <td>0.000000</td>\n",
              "    </tr>\n",
              "    <tr>\n",
              "      <th>50%</th>\n",
              "      <td>39.000000</td>\n",
              "      <td>550.000000</td>\n",
              "      <td>15.000000</td>\n",
              "      <td>255.000000</td>\n",
              "      <td>2.000000</td>\n",
              "      <td>-1.000000</td>\n",
              "      <td>0.000000</td>\n",
              "    </tr>\n",
              "    <tr>\n",
              "      <th>75%</th>\n",
              "      <td>49.000000</td>\n",
              "      <td>1708.000000</td>\n",
              "      <td>22.000000</td>\n",
              "      <td>496.000000</td>\n",
              "      <td>3.000000</td>\n",
              "      <td>20.750000</td>\n",
              "      <td>1.000000</td>\n",
              "    </tr>\n",
              "    <tr>\n",
              "      <th>max</th>\n",
              "      <td>95.000000</td>\n",
              "      <td>81204.000000</td>\n",
              "      <td>31.000000</td>\n",
              "      <td>3881.000000</td>\n",
              "      <td>63.000000</td>\n",
              "      <td>854.000000</td>\n",
              "      <td>58.000000</td>\n",
              "    </tr>\n",
              "  </tbody>\n",
              "</table>\n",
              "</div>"
            ],
            "text/plain": [
              "                age       balance  ...         pdays      previous\n",
              "count  11162.000000  11162.000000  ...  11162.000000  11162.000000\n",
              "mean      41.231948   1528.538524  ...     51.330407      0.832557\n",
              "std       11.913369   3225.413326  ...    108.758282      2.292007\n",
              "min       18.000000  -6847.000000  ...     -1.000000      0.000000\n",
              "25%       32.000000    122.000000  ...     -1.000000      0.000000\n",
              "50%       39.000000    550.000000  ...     -1.000000      0.000000\n",
              "75%       49.000000   1708.000000  ...     20.750000      1.000000\n",
              "max       95.000000  81204.000000  ...    854.000000     58.000000\n",
              "\n",
              "[8 rows x 7 columns]"
            ]
          },
          "metadata": {
            "tags": []
          },
          "execution_count": 44
        }
      ]
    },
    {
      "cell_type": "code",
      "metadata": {
        "colab": {
          "base_uri": "https://localhost:8080/"
        },
        "id": "NkIuTrjEoU6E",
        "outputId": "3587c977-9f18-4f21-8b43-290f43dd616a"
      },
      "source": [
        "# describing the object/string values in the data frame.\n",
        "for col in df.select_dtypes(include='object').columns:\n",
        "    print(col)\n",
        "    print(df[col].unique())"
      ],
      "execution_count": null,
      "outputs": [
        {
          "output_type": "stream",
          "text": [
            "job\n",
            "['admin.' 'technician' 'services' 'management' 'retired' 'blue-collar'\n",
            " 'unemployed' 'entrepreneur' 'housemaid' 'unknown' 'self-employed'\n",
            " 'student']\n",
            "marital\n",
            "['married' 'single' 'divorced']\n",
            "education\n",
            "['secondary' 'tertiary' 'primary' 'unknown']\n",
            "default\n",
            "['no' 'yes']\n",
            "housing\n",
            "['yes' 'no']\n",
            "loan\n",
            "['no' 'yes']\n",
            "contact\n",
            "['unknown' 'cellular' 'telephone']\n",
            "month\n",
            "['may' 'jun' 'jul' 'aug' 'oct' 'nov' 'dec' 'jan' 'feb' 'mar' 'apr' 'sep']\n",
            "poutcome\n",
            "['unknown' 'other' 'failure' 'success']\n",
            "deposit\n",
            "['yes' 'no']\n"
          ],
          "name": "stdout"
        }
      ]
    },
    {
      "cell_type": "markdown",
      "metadata": {
        "id": "gtubJypeoiOR"
      },
      "source": [
        "### **Analysing the data before preprocessing**"
      ]
    },
    {
      "cell_type": "code",
      "metadata": {
        "colab": {
          "base_uri": "https://localhost:8080/"
        },
        "id": "-d8zSelcpBlQ",
        "outputId": "212faa81-defc-4c2f-c4aa-31dea4fa4c19"
      },
      "source": [
        "# find missing values in the entire dataset.\n",
        "features_na = [features for features in df.columns if df[features].isnull().sum() > 0]\n",
        "for feature in features_na:\n",
        "    print(feature, np.round(df[feature].isnull().mean(), 4),  ' % missing values')\n",
        "else:\n",
        "    print(\"No missing value found\")"
      ],
      "execution_count": null,
      "outputs": [
        {
          "output_type": "stream",
          "text": [
            "No missing value found\n"
          ],
          "name": "stdout"
        }
      ]
    },
    {
      "cell_type": "code",
      "metadata": {
        "colab": {
          "base_uri": "https://localhost:8080/"
        },
        "id": "NcOt1bPYpXmH",
        "outputId": "2bb92a3a-9df9-4754-82dc-f9831e1c128b"
      },
      "source": [
        "# finding unique values to remove them from the dataset as they will not be useful in predicting the output.\n",
        "for column in df.columns:\n",
        "    print(column,df[column].nunique())"
      ],
      "execution_count": null,
      "outputs": [
        {
          "output_type": "stream",
          "text": [
            "age 76\n",
            "job 12\n",
            "marital 3\n",
            "education 4\n",
            "default 2\n",
            "balance 3805\n",
            "housing 2\n",
            "loan 2\n",
            "contact 3\n",
            "day 31\n",
            "month 12\n",
            "duration 1428\n",
            "campaign 36\n",
            "pdays 472\n",
            "previous 34\n",
            "poutcome 4\n",
            "deposit 2\n"
          ],
          "name": "stdout"
        }
      ]
    },
    {
      "cell_type": "markdown",
      "metadata": {
        "id": "LeyDaCZ4ptPw"
      },
      "source": [
        "**We observe that there are no attributes with unique value.**"
      ]
    },
    {
      "cell_type": "code",
      "metadata": {
        "colab": {
          "base_uri": "https://localhost:8080/"
        },
        "id": "PzbNChPKpt9w",
        "outputId": "878fdb24-1bb9-459d-9703-aaf614963b68"
      },
      "source": [
        "# We try to convert the categorical values into integers for calculation purposes.\n",
        "# Taking the object attributes into a list. \n",
        "categorical_features=[feature for feature in df.columns if ((df[feature].dtypes=='O') & (feature not in ['deposit']))]\n",
        "categorical_features"
      ],
      "execution_count": null,
      "outputs": [
        {
          "output_type": "execute_result",
          "data": {
            "text/plain": [
              "['job',\n",
              " 'marital',\n",
              " 'education',\n",
              " 'default',\n",
              " 'housing',\n",
              " 'loan',\n",
              " 'contact',\n",
              " 'month',\n",
              " 'poutcome']"
            ]
          },
          "metadata": {
            "tags": []
          },
          "execution_count": 48
        }
      ]
    },
    {
      "cell_type": "code",
      "metadata": {
        "colab": {
          "base_uri": "https://localhost:8080/"
        },
        "id": "Da_mMuRIqp6I",
        "outputId": "e0ab6ed5-fae3-4d98-be06-2f649364aad3"
      },
      "source": [
        "# finding the number of unique values for each of the object attributes.\n",
        "for feature in categorical_features:\n",
        "    print('The feature is {} and number of categories are {}'.format(feature,len(df[feature].unique())))"
      ],
      "execution_count": null,
      "outputs": [
        {
          "output_type": "stream",
          "text": [
            "The feature is job and number of categories are 12\n",
            "The feature is marital and number of categories are 3\n",
            "The feature is education and number of categories are 4\n",
            "The feature is default and number of categories are 2\n",
            "The feature is housing and number of categories are 2\n",
            "The feature is loan and number of categories are 2\n",
            "The feature is contact and number of categories are 3\n",
            "The feature is month and number of categories are 12\n",
            "The feature is poutcome and number of categories are 4\n"
          ],
          "name": "stdout"
        }
      ]
    },
    {
      "cell_type": "code",
      "metadata": {
        "colab": {
          "base_uri": "https://localhost:8080/",
          "height": 1000
        },
        "id": "S3lejVNLrKk4",
        "outputId": "9ccab09e-76c7-493c-eadb-c6142acc0a58"
      },
      "source": [
        "#check count based on categorical features\n",
        "plt.figure(figsize=(15,80), facecolor='white')\n",
        "plotnumber =1\n",
        "for categorical_feature in categorical_features:\n",
        "    ax = plt.subplot(12,3,plotnumber)\n",
        "    sns.countplot(y=categorical_feature,data=df)\n",
        "    plt.xlabel(categorical_feature)\n",
        "    plt.title(categorical_feature)\n",
        "    plotnumber+=1\n",
        "plt.show()"
      ],
      "execution_count": null,
      "outputs": [
        {
          "output_type": "display_data",
          "data": {
            "image/png": "[encoded data removed]",
            "text/plain": [
              "<Figure size 1080x5760 with 9 Axes>"
            ]
          },
          "metadata": {
            "tags": []
          }
        }
      ]
    },
    {
      "cell_type": "markdown",
      "metadata": {
        "id": "z6lqnBeIrX1T"
      },
      "source": [
        "We can observe that customers with job as management, marital status as married, education status as secondary, who uses cellular contact, and in the month of may in addition to the new users according to the poutcome are showing intrest in term deposits. \n",
        "\n",
        "Whereas the default attribute has more percentage of \"no\". Rest of the attributes has considerate amount of \"yes\" and \"no\"."
      ]
    },
    {
      "cell_type": "code",
      "metadata": {
        "id": "e6X6Q5Rzs551",
        "colab": {
          "base_uri": "https://localhost:8080/",
          "height": 1000
        },
        "outputId": "c329a619-ef16-4bd7-cf8d-3b7c265868a8"
      },
      "source": [
        "# checking the target label split over categorical features.\n",
        "# and finding out the relationship between categorical variable and dependent variable.\n",
        "for categorical_feature in categorical_features:\n",
        "    sns.catplot(x='deposit', col=categorical_feature, kind='count', data= df)\n",
        "plt.show()"
      ],
      "execution_count": null,
      "outputs": [
        {
          "output_type": "display_data",
          "data": {
            "image/png": "[encoded data removed]",
            "text/plain": [
              "<Figure size 4320x360 with 12 Axes>"
            ]
          },
          "metadata": {
            "tags": [],
            "needs_background": "light"
          }
        },
        {
          "output_type": "display_data",
          "data": {
            "image/png": "[encoded data removed]",
            "text/plain": [
              "<Figure size 1080x360 with 3 Axes>"
            ]
          },
          "metadata": {
            "tags": [],
            "needs_background": "light"
          }
        },
        {
          "output_type": "display_data",
          "data": {
            "image/png": "[encoded data removed]",
            "text/plain": [
              "<Figure size 1440x360 with 4 Axes>"
            ]
          },
          "metadata": {
            "tags": [],
            "needs_background": "light"
          }
        },
        {
          "output_type": "display_data",
          "data": {
            "image/png": "[encoded data removed]",
            "text/plain": [
              "<Figure size 720x360 with 2 Axes>"
            ]
          },
          "metadata": {
            "tags": [],
            "needs_background": "light"
          }
        },
        {
          "output_type": "display_data",
          "data": {
            "image/png": "[encoded data removed]",
            "text/plain": [
              "<Figure size 720x360 with 2 Axes>"
            ]
          },
          "metadata": {
            "tags": [],
            "needs_background": "light"
          }
        },
        {
          "output_type": "display_data",
          "data": {
            "image/png": "[encoded data removed]",
            "text/plain": [
              "<Figure size 720x360 with 2 Axes>"
            ]
          },
          "metadata": {
            "tags": [],
            "needs_background": "light"
          }
        },
        {
          "output_type": "display_data",
          "data": {
            "image/png": "[encoded data removed]",
            "text/plain": [
              "<Figure size 1080x360 with 3 Axes>"
            ]
          },
          "metadata": {
            "tags": [],
            "needs_background": "light"
          }
        },
        {
          "output_type": "display_data",
          "data": {
            "image/png": "[encoded data removed]",
            "text/plain": [
              "<Figure size 4320x360 with 12 Axes>"
            ]
          },
          "metadata": {
            "tags": [],
            "needs_background": "light"
          }
        },
        {
          "output_type": "display_data",
          "data": {
            "image/png": "[encoded data removed]",
            "text/plain": [
              "<Figure size 1440x360 with 4 Axes>"
            ]
          },
          "metadata": {
            "tags": [],
            "needs_background": "light"
          }
        }
      ]
    },
    {
      "cell_type": "code",
      "metadata": {
        "colab": {
          "base_uri": "https://localhost:8080/"
        },
        "id": "MGCib4i_waJR",
        "outputId": "277cfc12-6c98-489c-f20a-012b9704e686"
      },
      "source": [
        "# Finding the count of each of the categorical features.\n",
        "for categorical_feature in categorical_features:\n",
        "    print(df.groupby(['deposit',categorical_feature]).size())"
      ],
      "execution_count": null,
      "outputs": [
        {
          "output_type": "stream",
          "text": [
            "deposit  job          \n",
            "no       admin.            703\n",
            "         blue-collar      1236\n",
            "         entrepreneur      205\n",
            "         housemaid         165\n",
            "         management       1265\n",
            "         retired           262\n",
            "         self-employed     218\n",
            "         services          554\n",
            "         student            91\n",
            "         technician        983\n",
            "         unemployed        155\n",
            "         unknown            36\n",
            "yes      admin.            631\n",
            "         blue-collar       708\n",
            "         entrepreneur      123\n",
            "         housemaid         109\n",
            "         management       1301\n",
            "         retired           516\n",
            "         self-employed     187\n",
            "         services          369\n",
            "         student           269\n",
            "         technician        840\n",
            "         unemployed        202\n",
            "         unknown            34\n",
            "dtype: int64\n",
            "deposit  marital \n",
            "no       divorced     671\n",
            "         married     3596\n",
            "         single      1606\n",
            "yes      divorced     622\n",
            "         married     2755\n",
            "         single      1912\n",
            "dtype: int64\n",
            "deposit  education\n",
            "no       primary       909\n",
            "         secondary    3026\n",
            "         tertiary     1693\n",
            "         unknown       245\n",
            "yes      primary       591\n",
            "         secondary    2450\n",
            "         tertiary     1996\n",
            "         unknown       252\n",
            "dtype: int64\n",
            "deposit  default\n",
            "no       no         5757\n",
            "         yes         116\n",
            "yes      no         5237\n",
            "         yes          52\n",
            "dtype: int64\n",
            "deposit  housing\n",
            "no       no         2527\n",
            "         yes        3346\n",
            "yes      no         3354\n",
            "         yes        1935\n",
            "dtype: int64\n",
            "deposit  loan\n",
            "no       no      4897\n",
            "         yes      976\n",
            "yes      no      4805\n",
            "         yes      484\n",
            "dtype: int64\n",
            "deposit  contact  \n",
            "no       cellular     3673\n",
            "         telephone     384\n",
            "         unknown      1816\n",
            "yes      cellular     4369\n",
            "         telephone     390\n",
            "         unknown       530\n",
            "dtype: int64\n",
            "deposit  month\n",
            "no       apr       346\n",
            "         aug       831\n",
            "         dec        10\n",
            "         feb       335\n",
            "         jan       202\n",
            "         jul       887\n",
            "         jun       676\n",
            "         mar        28\n",
            "         may      1899\n",
            "         nov       540\n",
            "         oct        69\n",
            "         sep        50\n",
            "yes      apr       577\n",
            "         aug       688\n",
            "         dec       100\n",
            "         feb       441\n",
            "         jan       142\n",
            "         jul       627\n",
            "         jun       546\n",
            "         mar       248\n",
            "         may       925\n",
            "         nov       403\n",
            "         oct       323\n",
            "         sep       269\n",
            "dtype: int64\n",
            "deposit  poutcome\n",
            "no       failure      610\n",
            "         other        230\n",
            "         success       93\n",
            "         unknown     4940\n",
            "yes      failure      618\n",
            "         other        307\n",
            "         success      978\n",
            "         unknown     3386\n",
            "dtype: int64\n"
          ],
          "name": "stdout"
        }
      ]
    },
    {
      "cell_type": "markdown",
      "metadata": {
        "id": "jYr3jM0O8b_a"
      },
      "source": [
        "retired client has high interest on deposit\n",
        "client who has housing loan seems to be not interested much on deposit\n",
        "if pre campagin outcome that is poutcome=success then, there is high chance of client to show interest on deposit\n",
        "in month of March, September, October and December, client show high interest to deposit\n",
        "in month of may, records are high but client interst ratio is very less"
      ]
    },
    {
      "cell_type": "code",
      "metadata": {
        "colab": {
          "base_uri": "https://localhost:8080/",
          "height": 221
        },
        "id": "YSRd7DCEwqQx",
        "outputId": "6042fcf1-58b5-4d2b-9610-70ea553c0b54"
      },
      "source": [
        "# listing out the numerical variables\n",
        "numerical_features = [feature for feature in df.columns if ((df[feature].dtypes != 'O') & (feature not in ['deposit']))]\n",
        "print('Number of numerical variables: ', len(numerical_features))\n",
        "\n",
        "# visualising the first five numerical variables.\n",
        "df[numerical_features].head()"
      ],
      "execution_count": null,
      "outputs": [
        {
          "output_type": "stream",
          "text": [
            "Number of numerical variables:  7\n"
          ],
          "name": "stdout"
        },
        {
          "output_type": "execute_result",
          "data": {
            "text/html": [
              "<div>\n",
              "<style scoped>\n",
              "    .dataframe tbody tr th:only-of-type {\n",
              "        vertical-align: middle;\n",
              "    }\n",
              "\n",
              "    .dataframe tbody tr th {\n",
              "        vertical-align: top;\n",
              "    }\n",
              "\n",
              "    .dataframe thead th {\n",
              "        text-align: right;\n",
              "    }\n",
              "</style>\n",
              "<table border=\"1\" class=\"dataframe\">\n",
              "  <thead>\n",
              "    <tr style=\"text-align: right;\">\n",
              "      <th></th>\n",
              "      <th>age</th>\n",
              "      <th>balance</th>\n",
              "      <th>day</th>\n",
              "      <th>duration</th>\n",
              "      <th>campaign</th>\n",
              "      <th>pdays</th>\n",
              "      <th>previous</th>\n",
              "    </tr>\n",
              "  </thead>\n",
              "  <tbody>\n",
              "    <tr>\n",
              "      <th>0</th>\n",
              "      <td>59</td>\n",
              "      <td>2343</td>\n",
              "      <td>5</td>\n",
              "      <td>1042</td>\n",
              "      <td>1</td>\n",
              "      <td>-1</td>\n",
              "      <td>0</td>\n",
              "    </tr>\n",
              "    <tr>\n",
              "      <th>1</th>\n",
              "      <td>56</td>\n",
              "      <td>45</td>\n",
              "      <td>5</td>\n",
              "      <td>1467</td>\n",
              "      <td>1</td>\n",
              "      <td>-1</td>\n",
              "      <td>0</td>\n",
              "    </tr>\n",
              "    <tr>\n",
              "      <th>2</th>\n",
              "      <td>41</td>\n",
              "      <td>1270</td>\n",
              "      <td>5</td>\n",
              "      <td>1389</td>\n",
              "      <td>1</td>\n",
              "      <td>-1</td>\n",
              "      <td>0</td>\n",
              "    </tr>\n",
              "    <tr>\n",
              "      <th>3</th>\n",
              "      <td>55</td>\n",
              "      <td>2476</td>\n",
              "      <td>5</td>\n",
              "      <td>579</td>\n",
              "      <td>1</td>\n",
              "      <td>-1</td>\n",
              "      <td>0</td>\n",
              "    </tr>\n",
              "    <tr>\n",
              "      <th>4</th>\n",
              "      <td>54</td>\n",
              "      <td>184</td>\n",
              "      <td>5</td>\n",
              "      <td>673</td>\n",
              "      <td>2</td>\n",
              "      <td>-1</td>\n",
              "      <td>0</td>\n",
              "    </tr>\n",
              "  </tbody>\n",
              "</table>\n",
              "</div>"
            ],
            "text/plain": [
              "   age  balance  day  duration  campaign  pdays  previous\n",
              "0   59     2343    5      1042         1     -1         0\n",
              "1   56       45    5      1467         1     -1         0\n",
              "2   41     1270    5      1389         1     -1         0\n",
              "3   55     2476    5       579         1     -1         0\n",
              "4   54      184    5       673         2     -1         0"
            ]
          },
          "metadata": {
            "tags": []
          },
          "execution_count": 53
        }
      ]
    },
    {
      "cell_type": "code",
      "metadata": {
        "colab": {
          "base_uri": "https://localhost:8080/"
        },
        "id": "72j7I4Fj8_jW",
        "outputId": "d894c3aa-dccb-4776-9515-95a7e7dbab5c"
      },
      "source": [
        "# finding discrete variables which has basically values which have lesser difference than 25.\n",
        "discrete_feature=[feature for feature in numerical_features if len(df[feature].unique())<25]\n",
        "print(\"Discrete Variables Count: {}\".format(len(discrete_feature)))"
      ],
      "execution_count": null,
      "outputs": [
        {
          "output_type": "stream",
          "text": [
            "Discrete Variables Count: 0\n"
          ],
          "name": "stdout"
        }
      ]
    },
    {
      "cell_type": "code",
      "metadata": {
        "colab": {
          "base_uri": "https://localhost:8080/",
          "height": 1000
        },
        "id": "mlzqlPkGAEjJ",
        "outputId": "d4c32a6c-8453-45b0-b3ab-d1c0d8f78977"
      },
      "source": [
        "# plot a univariate distribution of continuous observations.\n",
        "continuous_features=[feature for feature in numerical_features if feature not in discrete_feature+['deposit']]\n",
        "print(\"Continuous feature Count {}\".format(len(continuous_features)))\n",
        "plt.figure(figsize=(20,60), facecolor='white')\n",
        "plotnumber =1\n",
        "for continuous_feature in continuous_features:\n",
        "    ax = plt.subplot(12,3,plotnumber)\n",
        "    sns.distplot(df[continuous_feature])\n",
        "    plt.xlabel(continuous_feature)\n",
        "    plotnumber+=1\n",
        "plt.show()"
      ],
      "execution_count": null,
      "outputs": [
        {
          "output_type": "stream",
          "text": [
            "Continuous feature Count 7\n"
          ],
          "name": "stdout"
        },
        {
          "output_type": "stream",
          "text": [
            "/usr/local/lib/python3.7/dist-packages/seaborn/distributions.py:2557: FutureWarning: `distplot` is a deprecated function and will be removed in a future version. Please adapt your code to use either `displot` (a figure-level function with similar flexibility) or `histplot` (an axes-level function for histograms).\n",
            "  warnings.warn(msg, FutureWarning)\n",
            "/usr/local/lib/python3.7/dist-packages/seaborn/distributions.py:2557: FutureWarning: `distplot` is a deprecated function and will be removed in a future version. Please adapt your code to use either `displot` (a figure-level function with similar flexibility) or `histplot` (an axes-level function for histograms).\n",
            "  warnings.warn(msg, FutureWarning)\n",
            "/usr/local/lib/python3.7/dist-packages/seaborn/distributions.py:2557: FutureWarning: `distplot` is a deprecated function and will be removed in a future version. Please adapt your code to use either `displot` (a figure-level function with similar flexibility) or `histplot` (an axes-level function for histograms).\n",
            "  warnings.warn(msg, FutureWarning)\n",
            "/usr/local/lib/python3.7/dist-packages/seaborn/distributions.py:2557: FutureWarning: `distplot` is a deprecated function and will be removed in a future version. Please adapt your code to use either `displot` (a figure-level function with similar flexibility) or `histplot` (an axes-level function for histograms).\n",
            "  warnings.warn(msg, FutureWarning)\n",
            "/usr/local/lib/python3.7/dist-packages/seaborn/distributions.py:2557: FutureWarning: `distplot` is a deprecated function and will be removed in a future version. Please adapt your code to use either `displot` (a figure-level function with similar flexibility) or `histplot` (an axes-level function for histograms).\n",
            "  warnings.warn(msg, FutureWarning)\n",
            "/usr/local/lib/python3.7/dist-packages/seaborn/distributions.py:2557: FutureWarning: `distplot` is a deprecated function and will be removed in a future version. Please adapt your code to use either `displot` (a figure-level function with similar flexibility) or `histplot` (an axes-level function for histograms).\n",
            "  warnings.warn(msg, FutureWarning)\n",
            "/usr/local/lib/python3.7/dist-packages/seaborn/distributions.py:2557: FutureWarning: `distplot` is a deprecated function and will be removed in a future version. Please adapt your code to use either `displot` (a figure-level function with similar flexibility) or `histplot` (an axes-level function for histograms).\n",
            "  warnings.warn(msg, FutureWarning)\n"
          ],
          "name": "stderr"
        },
        {
          "output_type": "display_data",
          "data": {
            "image/png": "[encoded data removed]",
            "text/plain": [
              "<Figure size 1440x4320 with 7 Axes>"
            ]
          },
          "metadata": {
            "tags": []
          }
        }
      ]
    },
    {
      "cell_type": "code",
      "metadata": {
        "colab": {
          "base_uri": "https://localhost:8080/",
          "height": 731
        },
        "id": "WFC_acTQRBxv",
        "outputId": "399eff25-2c13-49a2-a4e0-1f6674a31c56"
      },
      "source": [
        "#boxplot to show target distribution with respect numerical features\n",
        "plt.figure(figsize=(20,60), facecolor='white')\n",
        "plotnumber =1\n",
        "for feature in continuous_features:\n",
        "    ax = plt.subplot(12,3,plotnumber)\n",
        "    sns.boxplot(x=\"deposit\", y= df[feature], data=df)\n",
        "    plt.xlabel(feature)\n",
        "    plotnumber+=1\n",
        "plt.show()"
      ],
      "execution_count": null,
      "outputs": [
        {
          "output_type": "display_data",
          "data": {
            "image/png": "[encoded data removed]",
            "text/plain": [
              "<Figure size 1440x4320 with 7 Axes>"
            ]
          },
          "metadata": {
            "tags": []
          }
        }
      ]
    },
    {
      "cell_type": "code",
      "metadata": {
        "colab": {
          "base_uri": "https://localhost:8080/",
          "height": 1000
        },
        "id": "R-ZTk-DoRKRR",
        "outputId": "7310b108-f21a-483b-db79-fc1286f6938e"
      },
      "source": [
        "#boxplot on numerical features to find outliers\n",
        "plt.figure(figsize=(20,60), facecolor='white')\n",
        "plotnumber =1\n",
        "for numerical_feature in numerical_features:\n",
        "    ax = plt.subplot(12,3,plotnumber)\n",
        "    sns.boxplot(df[numerical_feature])\n",
        "    plt.xlabel(numerical_feature)\n",
        "    plotnumber+=1\n",
        "plt.show()"
      ],
      "execution_count": null,
      "outputs": [
        {
          "output_type": "stream",
          "text": [
            "/usr/local/lib/python3.7/dist-packages/seaborn/_decorators.py:43: FutureWarning: Pass the following variable as a keyword arg: x. From version 0.12, the only valid positional argument will be `data`, and passing other arguments without an explicit keyword will result in an error or misinterpretation.\n",
            "  FutureWarning\n",
            "/usr/local/lib/python3.7/dist-packages/seaborn/_decorators.py:43: FutureWarning: Pass the following variable as a keyword arg: x. From version 0.12, the only valid positional argument will be `data`, and passing other arguments without an explicit keyword will result in an error or misinterpretation.\n",
            "  FutureWarning\n",
            "/usr/local/lib/python3.7/dist-packages/seaborn/_decorators.py:43: FutureWarning: Pass the following variable as a keyword arg: x. From version 0.12, the only valid positional argument will be `data`, and passing other arguments without an explicit keyword will result in an error or misinterpretation.\n",
            "  FutureWarning\n",
            "/usr/local/lib/python3.7/dist-packages/seaborn/_decorators.py:43: FutureWarning: Pass the following variable as a keyword arg: x. From version 0.12, the only valid positional argument will be `data`, and passing other arguments without an explicit keyword will result in an error or misinterpretation.\n",
            "  FutureWarning\n",
            "/usr/local/lib/python3.7/dist-packages/seaborn/_decorators.py:43: FutureWarning: Pass the following variable as a keyword arg: x. From version 0.12, the only valid positional argument will be `data`, and passing other arguments without an explicit keyword will result in an error or misinterpretation.\n",
            "  FutureWarning\n",
            "/usr/local/lib/python3.7/dist-packages/seaborn/_decorators.py:43: FutureWarning: Pass the following variable as a keyword arg: x. From version 0.12, the only valid positional argument will be `data`, and passing other arguments without an explicit keyword will result in an error or misinterpretation.\n",
            "  FutureWarning\n",
            "/usr/local/lib/python3.7/dist-packages/seaborn/_decorators.py:43: FutureWarning: Pass the following variable as a keyword arg: x. From version 0.12, the only valid positional argument will be `data`, and passing other arguments without an explicit keyword will result in an error or misinterpretation.\n",
            "  FutureWarning\n"
          ],
          "name": "stderr"
        },
        {
          "output_type": "display_data",
          "data": {
            "image/png": "[encoded data removed]",
            "text/plain": [
              "<Figure size 1440x4320 with 7 Axes>"
            ]
          },
          "metadata": {
            "tags": []
          }
        }
      ]
    },
    {
      "cell_type": "code",
      "metadata": {
        "colab": {
          "base_uri": "https://localhost:8080/",
          "height": 449
        },
        "id": "OVgmokV9RcBC",
        "outputId": "e0cbc912-5436-4340-f5f1-e506b2498b51"
      },
      "source": [
        "# Checking for correlation which is near to 1 or -1 so that one attribute can be removed from the dataset.\n",
        "cor_mat=df.corr()\n",
        "fig = plt.figure(figsize=(15,7))\n",
        "sns.heatmap(cor_mat,annot=True)"
      ],
      "execution_count": null,
      "outputs": [
        {
          "output_type": "execute_result",
          "data": {
            "text/plain": [
              "<matplotlib.axes._subplots.AxesSubplot at 0x7fe0dc306d50>"
            ]
          },
          "metadata": {
            "tags": []
          },
          "execution_count": 58
        },
        {
          "output_type": "display_data",
          "data": {
            "image/png": "[encoded data removed]",
            "text/plain": [
              "<Figure size 1080x504 with 2 Axes>"
            ]
          },
          "metadata": {
            "tags": [],
            "needs_background": "light"
          }
        }
      ]
    },
    {
      "cell_type": "code",
      "metadata": {
        "colab": {
          "base_uri": "https://localhost:8080/",
          "height": 347
        },
        "id": "pCmyWI-ZR-ks",
        "outputId": "118bc55a-f585-4614-e078-c0271dbdb55a"
      },
      "source": [
        "# Checking whether the output is distributed evenly or not.\n",
        "sns.countplot(x='deposit',data=df)\n",
        "plt.show()\n",
        "#showing the result in numbers for better understanding.\n",
        "df['deposit'].groupby(df['deposit']).count()"
      ],
      "execution_count": null,
      "outputs": [
        {
          "output_type": "display_data",
          "data": {
            "image/png": "[encoded data removed]",
            "text/plain": [
              "<Figure size 432x288 with 1 Axes>"
            ]
          },
          "metadata": {
            "tags": [],
            "needs_background": "light"
          }
        },
        {
          "output_type": "execute_result",
          "data": {
            "text/plain": [
              "deposit\n",
              "no     5873\n",
              "yes    5289\n",
              "Name: deposit, dtype: int64"
            ]
          },
          "metadata": {
            "tags": []
          },
          "execution_count": 59
        }
      ]
    },
    {
      "cell_type": "code",
      "metadata": {
        "id": "ws8pGSV8SK1B"
      },
      "source": [
        "# Copying the data frame to remove the unecessary attributes in the dataset.\n",
        "df2=df.copy()"
      ],
      "execution_count": null,
      "outputs": []
    },
    {
      "cell_type": "code",
      "metadata": {
        "colab": {
          "base_uri": "https://localhost:8080/",
          "height": 224
        },
        "id": "sbFlZ49NTwwa",
        "outputId": "9110b2fa-f42d-45b0-d313-394e8c6ddbe1"
      },
      "source": [
        "df2.head()"
      ],
      "execution_count": null,
      "outputs": [
        {
          "output_type": "execute_result",
          "data": {
            "text/html": [
              "<div>\n",
              "<style scoped>\n",
              "    .dataframe tbody tr th:only-of-type {\n",
              "        vertical-align: middle;\n",
              "    }\n",
              "\n",
              "    .dataframe tbody tr th {\n",
              "        vertical-align: top;\n",
              "    }\n",
              "\n",
              "    .dataframe thead th {\n",
              "        text-align: right;\n",
              "    }\n",
              "</style>\n",
              "<table border=\"1\" class=\"dataframe\">\n",
              "  <thead>\n",
              "    <tr style=\"text-align: right;\">\n",
              "      <th></th>\n",
              "      <th>age</th>\n",
              "      <th>job</th>\n",
              "      <th>marital</th>\n",
              "      <th>education</th>\n",
              "      <th>default</th>\n",
              "      <th>balance</th>\n",
              "      <th>housing</th>\n",
              "      <th>loan</th>\n",
              "      <th>contact</th>\n",
              "      <th>day</th>\n",
              "      <th>month</th>\n",
              "      <th>duration</th>\n",
              "      <th>campaign</th>\n",
              "      <th>pdays</th>\n",
              "      <th>previous</th>\n",
              "      <th>poutcome</th>\n",
              "      <th>deposit</th>\n",
              "    </tr>\n",
              "  </thead>\n",
              "  <tbody>\n",
              "    <tr>\n",
              "      <th>0</th>\n",
              "      <td>59</td>\n",
              "      <td>admin.</td>\n",
              "      <td>married</td>\n",
              "      <td>secondary</td>\n",
              "      <td>no</td>\n",
              "      <td>2343</td>\n",
              "      <td>yes</td>\n",
              "      <td>no</td>\n",
              "      <td>unknown</td>\n",
              "      <td>5</td>\n",
              "      <td>may</td>\n",
              "      <td>1042</td>\n",
              "      <td>1</td>\n",
              "      <td>-1</td>\n",
              "      <td>0</td>\n",
              "      <td>unknown</td>\n",
              "      <td>yes</td>\n",
              "    </tr>\n",
              "    <tr>\n",
              "      <th>1</th>\n",
              "      <td>56</td>\n",
              "      <td>admin.</td>\n",
              "      <td>married</td>\n",
              "      <td>secondary</td>\n",
              "      <td>no</td>\n",
              "      <td>45</td>\n",
              "      <td>no</td>\n",
              "      <td>no</td>\n",
              "      <td>unknown</td>\n",
              "      <td>5</td>\n",
              "      <td>may</td>\n",
              "      <td>1467</td>\n",
              "      <td>1</td>\n",
              "      <td>-1</td>\n",
              "      <td>0</td>\n",
              "      <td>unknown</td>\n",
              "      <td>yes</td>\n",
              "    </tr>\n",
              "    <tr>\n",
              "      <th>2</th>\n",
              "      <td>41</td>\n",
              "      <td>technician</td>\n",
              "      <td>married</td>\n",
              "      <td>secondary</td>\n",
              "      <td>no</td>\n",
              "      <td>1270</td>\n",
              "      <td>yes</td>\n",
              "      <td>no</td>\n",
              "      <td>unknown</td>\n",
              "      <td>5</td>\n",
              "      <td>may</td>\n",
              "      <td>1389</td>\n",
              "      <td>1</td>\n",
              "      <td>-1</td>\n",
              "      <td>0</td>\n",
              "      <td>unknown</td>\n",
              "      <td>yes</td>\n",
              "    </tr>\n",
              "    <tr>\n",
              "      <th>3</th>\n",
              "      <td>55</td>\n",
              "      <td>services</td>\n",
              "      <td>married</td>\n",
              "      <td>secondary</td>\n",
              "      <td>no</td>\n",
              "      <td>2476</td>\n",
              "      <td>yes</td>\n",
              "      <td>no</td>\n",
              "      <td>unknown</td>\n",
              "      <td>5</td>\n",
              "      <td>may</td>\n",
              "      <td>579</td>\n",
              "      <td>1</td>\n",
              "      <td>-1</td>\n",
              "      <td>0</td>\n",
              "      <td>unknown</td>\n",
              "      <td>yes</td>\n",
              "    </tr>\n",
              "    <tr>\n",
              "      <th>4</th>\n",
              "      <td>54</td>\n",
              "      <td>admin.</td>\n",
              "      <td>married</td>\n",
              "      <td>tertiary</td>\n",
              "      <td>no</td>\n",
              "      <td>184</td>\n",
              "      <td>no</td>\n",
              "      <td>no</td>\n",
              "      <td>unknown</td>\n",
              "      <td>5</td>\n",
              "      <td>may</td>\n",
              "      <td>673</td>\n",
              "      <td>2</td>\n",
              "      <td>-1</td>\n",
              "      <td>0</td>\n",
              "      <td>unknown</td>\n",
              "      <td>yes</td>\n",
              "    </tr>\n",
              "  </tbody>\n",
              "</table>\n",
              "</div>"
            ],
            "text/plain": [
              "   age         job  marital  education  ... pdays  previous poutcome deposit\n",
              "0   59      admin.  married  secondary  ...    -1         0  unknown     yes\n",
              "1   56      admin.  married  secondary  ...    -1         0  unknown     yes\n",
              "2   41  technician  married  secondary  ...    -1         0  unknown     yes\n",
              "3   55    services  married  secondary  ...    -1         0  unknown     yes\n",
              "4   54      admin.  married   tertiary  ...    -1         0  unknown     yes\n",
              "\n",
              "[5 rows x 17 columns]"
            ]
          },
          "metadata": {
            "tags": []
          },
          "execution_count": 61
        }
      ]
    },
    {
      "cell_type": "code",
      "metadata": {
        "colab": {
          "base_uri": "https://localhost:8080/"
        },
        "id": "UC1iiC46T1DP",
        "outputId": "1cc54cf9-0351-4553-9e5a-97d7ea2023ab"
      },
      "source": [
        "df2.shape"
      ],
      "execution_count": null,
      "outputs": [
        {
          "output_type": "execute_result",
          "data": {
            "text/plain": [
              "(11162, 17)"
            ]
          },
          "metadata": {
            "tags": []
          },
          "execution_count": 62
        }
      ]
    },
    {
      "cell_type": "code",
      "metadata": {
        "colab": {
          "base_uri": "https://localhost:8080/"
        },
        "id": "xjywwyaBTqhg",
        "outputId": "5d4d69ea-58fc-45c1-b460-6ee0a481f79e"
      },
      "source": [
        "#defaut features does not play imp role as seen from the distribution before.\n",
        "df2.groupby(['deposit','default']).size()"
      ],
      "execution_count": null,
      "outputs": [
        {
          "output_type": "execute_result",
          "data": {
            "text/plain": [
              "deposit  default\n",
              "no       no         5757\n",
              "         yes         116\n",
              "yes      no         5237\n",
              "         yes          52\n",
              "dtype: int64"
            ]
          },
          "metadata": {
            "tags": []
          },
          "execution_count": 63
        }
      ]
    },
    {
      "cell_type": "code",
      "metadata": {
        "id": "htqa8waNSu9J"
      },
      "source": [
        "# Dropping the default feature as it has more than 95% as \"no\" which has no importance in determining the output.\n",
        "df2.drop(['default'],axis=1, inplace=True)"
      ],
      "execution_count": null,
      "outputs": []
    },
    {
      "cell_type": "code",
      "metadata": {
        "colab": {
          "base_uri": "https://localhost:8080/"
        },
        "id": "Dxhev1hdVOVw",
        "outputId": "0c9ec5d5-4f49-42cf-8f1b-da4d9f738da4"
      },
      "source": [
        "# reading the pdays feature as it has more distribution less than 0 which is observed in the integral attributes distribution.\n",
        "df2.groupby(['deposit','pdays']).size()"
      ],
      "execution_count": null,
      "outputs": [
        {
          "output_type": "execute_result",
          "data": {
            "text/plain": [
              "deposit  pdays\n",
              "no       -1       4940\n",
              "          1          2\n",
              "          2          6\n",
              "          5          2\n",
              "          6          2\n",
              "                  ... \n",
              "yes       804        1\n",
              "          805        1\n",
              "          828        1\n",
              "          842        1\n",
              "          854        1\n",
              "Length: 732, dtype: int64"
            ]
          },
          "metadata": {
            "tags": []
          },
          "execution_count": 65
        }
      ]
    },
    {
      "cell_type": "code",
      "metadata": {
        "id": "Fb1ToUbzXLh6"
      },
      "source": [
        "# drop pdays as it has -1 value more than 40%. \n",
        "df2.drop(['pdays'],axis=1, inplace=True)"
      ],
      "execution_count": null,
      "outputs": []
    },
    {
      "cell_type": "markdown",
      "metadata": {
        "id": "V801ZhB7aHac"
      },
      "source": [
        "**Removing outliers.**"
      ]
    },
    {
      "cell_type": "code",
      "metadata": {
        "colab": {
          "base_uri": "https://localhost:8080/"
        },
        "id": "X334VOHgXWRK",
        "outputId": "0a31a653-d296-47e3-9217-daf2f5f8b39e"
      },
      "source": [
        "# removing outliers in age attribute.\n",
        "df2.groupby('age',sort=True)['age'].count()\n",
        "# these can be ignored as values lies in between 18 to 95 and we cannot remove the outliers because the age attribute can contribute to the final decision."
      ],
      "execution_count": null,
      "outputs": [
        {
          "output_type": "execute_result",
          "data": {
            "text/plain": [
              "age\n",
              "18     8\n",
              "19    13\n",
              "20    20\n",
              "21    30\n",
              "22    48\n",
              "      ..\n",
              "89     1\n",
              "90     2\n",
              "92     2\n",
              "93     2\n",
              "95     1\n",
              "Name: age, Length: 76, dtype: int64"
            ]
          },
          "metadata": {
            "tags": []
          },
          "execution_count": 67
        }
      ]
    },
    {
      "cell_type": "code",
      "metadata": {
        "colab": {
          "base_uri": "https://localhost:8080/"
        },
        "id": "ao15KBbgXbnv",
        "outputId": "de9fd027-95a4-4bc7-e012-5c8181dba730"
      },
      "source": [
        "# removing outliers in balance attribute.\n",
        "df2.groupby(['deposit','balance'],sort=True)['balance'].count()\n",
        "# these outliers should not be removed as balance goes high, client show interest on deposit."
      ],
      "execution_count": null,
      "outputs": [
        {
          "output_type": "execute_result",
          "data": {
            "text/plain": [
              "deposit  balance\n",
              "no       -6847      1\n",
              "         -2712      1\n",
              "         -2282      1\n",
              "         -2049      1\n",
              "         -1965      1\n",
              "                   ..\n",
              "yes       34646     1\n",
              "          36252     1\n",
              "          45248     1\n",
              "          52587     2\n",
              "          81204     2\n",
              "Name: balance, Length: 5082, dtype: int64"
            ]
          },
          "metadata": {
            "tags": []
          },
          "execution_count": 68
        }
      ]
    },
    {
      "cell_type": "code",
      "metadata": {
        "colab": {
          "base_uri": "https://localhost:8080/"
        },
        "id": "Ozbzl4AMXfEt",
        "outputId": "65e47f47-edd6-490c-efb9-3a5c08f0666f"
      },
      "source": [
        "# removing outliers in duration attribute.\n",
        "df2.groupby(['deposit','duration'],sort=True)['duration'].count()\n",
        "# these outlier should not be removed as duration goes high, client show interest on deposit."
      ],
      "execution_count": null,
      "outputs": [
        {
          "output_type": "execute_result",
          "data": {
            "text/plain": [
              "deposit  duration\n",
              "no       2           1\n",
              "         3           1\n",
              "         4           2\n",
              "         5           4\n",
              "         6           6\n",
              "                    ..\n",
              "yes      3094        1\n",
              "         3102        1\n",
              "         3183        1\n",
              "         3253        1\n",
              "         3881        1\n",
              "Name: duration, Length: 2157, dtype: int64"
            ]
          },
          "metadata": {
            "tags": []
          },
          "execution_count": 69
        }
      ]
    },
    {
      "cell_type": "code",
      "metadata": {
        "colab": {
          "base_uri": "https://localhost:8080/"
        },
        "id": "ZFlQoNMdXiA6",
        "outputId": "b720258f-2fe0-4bc0-d015-06323b8f3be4"
      },
      "source": [
        "# removing outliers in feature campaign.\n",
        "df2.groupby(['deposit','campaign'],sort=True)['campaign'].count()"
      ],
      "execution_count": null,
      "outputs": [
        {
          "output_type": "execute_result",
          "data": {
            "text/plain": [
              "deposit  campaign\n",
              "no       1           2237\n",
              "         2           1627\n",
              "         3            703\n",
              "         4            454\n",
              "         5            239\n",
              "         6            173\n",
              "         7             92\n",
              "         8             96\n",
              "         9             51\n",
              "         10            38\n",
              "         11            24\n",
              "         12            25\n",
              "         13            24\n",
              "         14            11\n",
              "         15             9\n",
              "         16             7\n",
              "         17             8\n",
              "         18             8\n",
              "         19             5\n",
              "         20             4\n",
              "         21             7\n",
              "         22             4\n",
              "         23             3\n",
              "         24             4\n",
              "         25             3\n",
              "         26             3\n",
              "         27             1\n",
              "         28             1\n",
              "         29             1\n",
              "         30             4\n",
              "         31             1\n",
              "         32             1\n",
              "         33             1\n",
              "         41             1\n",
              "         43             2\n",
              "         63             1\n",
              "yes      1           2561\n",
              "         2           1401\n",
              "         3            618\n",
              "         4            317\n",
              "         5            139\n",
              "         6             92\n",
              "         7             47\n",
              "         8             32\n",
              "         9             21\n",
              "         10            14\n",
              "         11            16\n",
              "         12             4\n",
              "         13             6\n",
              "         14             4\n",
              "         15             4\n",
              "         16             2\n",
              "         17             6\n",
              "         20             1\n",
              "         21             1\n",
              "         24             1\n",
              "         29             1\n",
              "         32             1\n",
              "Name: campaign, dtype: int64"
            ]
          },
          "metadata": {
            "tags": []
          },
          "execution_count": 70
        }
      ]
    },
    {
      "cell_type": "code",
      "metadata": {
        "id": "1h_sVIqIXmPo"
      },
      "source": [
        "# the values that are greater than 33 has mostly no as output and it has negligible percentage of values.\n",
        "df3 = df2[df2['campaign'] < 33]"
      ],
      "execution_count": null,
      "outputs": []
    },
    {
      "cell_type": "code",
      "metadata": {
        "colab": {
          "base_uri": "https://localhost:8080/"
        },
        "id": "Tyg6jkmzXpjU",
        "outputId": "ebfc82c3-c174-4862-8c7b-76a31cabb270"
      },
      "source": [
        "df3.groupby(['deposit','campaign'],sort=True)['campaign'].count()"
      ],
      "execution_count": null,
      "outputs": [
        {
          "output_type": "execute_result",
          "data": {
            "text/plain": [
              "deposit  campaign\n",
              "no       1           2237\n",
              "         2           1627\n",
              "         3            703\n",
              "         4            454\n",
              "         5            239\n",
              "         6            173\n",
              "         7             92\n",
              "         8             96\n",
              "         9             51\n",
              "         10            38\n",
              "         11            24\n",
              "         12            25\n",
              "         13            24\n",
              "         14            11\n",
              "         15             9\n",
              "         16             7\n",
              "         17             8\n",
              "         18             8\n",
              "         19             5\n",
              "         20             4\n",
              "         21             7\n",
              "         22             4\n",
              "         23             3\n",
              "         24             4\n",
              "         25             3\n",
              "         26             3\n",
              "         27             1\n",
              "         28             1\n",
              "         29             1\n",
              "         30             4\n",
              "         31             1\n",
              "         32             1\n",
              "yes      1           2561\n",
              "         2           1401\n",
              "         3            618\n",
              "         4            317\n",
              "         5            139\n",
              "         6             92\n",
              "         7             47\n",
              "         8             32\n",
              "         9             21\n",
              "         10            14\n",
              "         11            16\n",
              "         12             4\n",
              "         13             6\n",
              "         14             4\n",
              "         15             4\n",
              "         16             2\n",
              "         17             6\n",
              "         20             1\n",
              "         21             1\n",
              "         24             1\n",
              "         29             1\n",
              "         32             1\n",
              "Name: campaign, dtype: int64"
            ]
          },
          "metadata": {
            "tags": []
          },
          "execution_count": 72
        }
      ]
    },
    {
      "cell_type": "code",
      "metadata": {
        "colab": {
          "base_uri": "https://localhost:8080/"
        },
        "id": "BS2Gc5utXsjn",
        "outputId": "e9e0886c-6b0c-4cf3-8bba-87c010128c98"
      },
      "source": [
        "# remove outliers in previous feature.\n",
        "df3.groupby(['deposit','previous'],sort=True)['previous'].count()"
      ],
      "execution_count": null,
      "outputs": [
        {
          "output_type": "execute_result",
          "data": {
            "text/plain": [
              "deposit  previous\n",
              "no       0           4935\n",
              "         1            304\n",
              "         2            237\n",
              "         3            141\n",
              "         4             73\n",
              "         5             44\n",
              "         6             34\n",
              "         7             23\n",
              "         8             21\n",
              "         9             10\n",
              "         10             4\n",
              "         11             8\n",
              "         12             6\n",
              "         13             2\n",
              "         14             1\n",
              "         15             4\n",
              "         16             2\n",
              "         17             8\n",
              "         18             1\n",
              "         19             2\n",
              "         20             1\n",
              "         23             1\n",
              "         27             2\n",
              "         28             1\n",
              "         37             1\n",
              "         40             1\n",
              "         41             1\n",
              "yes      0           3384\n",
              "         1            583\n",
              "         2            456\n",
              "         3            294\n",
              "         4            171\n",
              "         5            121\n",
              "         6             83\n",
              "         7             54\n",
              "         8             39\n",
              "         9             24\n",
              "         10            26\n",
              "         11            15\n",
              "         12            10\n",
              "         13             9\n",
              "         14             5\n",
              "         15             1\n",
              "         17             3\n",
              "         19             2\n",
              "         20             1\n",
              "         21             1\n",
              "         22             1\n",
              "         23             1\n",
              "         26             1\n",
              "         29             1\n",
              "         30             1\n",
              "         55             1\n",
              "         58             1\n",
              "Name: previous, dtype: int64"
            ]
          },
          "metadata": {
            "tags": []
          },
          "execution_count": 73
        }
      ]
    },
    {
      "cell_type": "code",
      "metadata": {
        "id": "vS-x-nf6Xvms"
      },
      "source": [
        "df4 = df3[df3['previous'] < 31]"
      ],
      "execution_count": null,
      "outputs": []
    },
    {
      "cell_type": "code",
      "metadata": {
        "id": "o9clOqy9XzPq"
      },
      "source": [
        "# seperating the categorical columns which are useful in determining the output.\n",
        "cat_columns = ['job', 'marital', 'education', 'contact', 'month', 'poutcome']\n",
        "for col in  cat_columns:\n",
        "    df4 = pd.concat([df4.drop(col, axis=1),pd.get_dummies(df4[col], prefix=col, prefix_sep='_',drop_first=True, dummy_na=False)], axis=1)"
      ],
      "execution_count": null,
      "outputs": []
    },
    {
      "cell_type": "code",
      "metadata": {
        "id": "B2ViztzZX3_E"
      },
      "source": [
        "# making the boolean values into integers as 1 and 0 for yes and no respectively.\n",
        "bool_columns = ['housing', 'loan', 'deposit']\n",
        "for col in  bool_columns:\n",
        "    df4[col+'_new']=df4[col].apply(lambda x : 1 if x == 'yes' else 0)\n",
        "    df4.drop(col, axis=1, inplace=True)"
      ],
      "execution_count": null,
      "outputs": []
    },
    {
      "cell_type": "code",
      "metadata": {
        "colab": {
          "base_uri": "https://localhost:8080/",
          "height": 241
        },
        "id": "IV1QGrolX7cv",
        "outputId": "f2ef464c-f1ba-44e7-fd6f-f356d4ddec8d"
      },
      "source": [
        "# displaying the final dataframe after dropping the attributes and removing all the unwanted outliers.\n",
        "df4.head()"
      ],
      "execution_count": null,
      "outputs": [
        {
          "output_type": "execute_result",
          "data": {
            "text/html": [
              "<div>\n",
              "<style scoped>\n",
              "    .dataframe tbody tr th:only-of-type {\n",
              "        vertical-align: middle;\n",
              "    }\n",
              "\n",
              "    .dataframe tbody tr th {\n",
              "        vertical-align: top;\n",
              "    }\n",
              "\n",
              "    .dataframe thead th {\n",
              "        text-align: right;\n",
              "    }\n",
              "</style>\n",
              "<table border=\"1\" class=\"dataframe\">\n",
              "  <thead>\n",
              "    <tr style=\"text-align: right;\">\n",
              "      <th></th>\n",
              "      <th>age</th>\n",
              "      <th>balance</th>\n",
              "      <th>day</th>\n",
              "      <th>duration</th>\n",
              "      <th>campaign</th>\n",
              "      <th>previous</th>\n",
              "      <th>job_blue-collar</th>\n",
              "      <th>job_entrepreneur</th>\n",
              "      <th>job_housemaid</th>\n",
              "      <th>job_management</th>\n",
              "      <th>job_retired</th>\n",
              "      <th>job_self-employed</th>\n",
              "      <th>job_services</th>\n",
              "      <th>job_student</th>\n",
              "      <th>job_technician</th>\n",
              "      <th>job_unemployed</th>\n",
              "      <th>job_unknown</th>\n",
              "      <th>marital_married</th>\n",
              "      <th>marital_single</th>\n",
              "      <th>education_secondary</th>\n",
              "      <th>education_tertiary</th>\n",
              "      <th>education_unknown</th>\n",
              "      <th>contact_telephone</th>\n",
              "      <th>contact_unknown</th>\n",
              "      <th>month_aug</th>\n",
              "      <th>month_dec</th>\n",
              "      <th>month_feb</th>\n",
              "      <th>month_jan</th>\n",
              "      <th>month_jul</th>\n",
              "      <th>month_jun</th>\n",
              "      <th>month_mar</th>\n",
              "      <th>month_may</th>\n",
              "      <th>month_nov</th>\n",
              "      <th>month_oct</th>\n",
              "      <th>month_sep</th>\n",
              "      <th>poutcome_other</th>\n",
              "      <th>poutcome_success</th>\n",
              "      <th>poutcome_unknown</th>\n",
              "      <th>housing_new</th>\n",
              "      <th>loan_new</th>\n",
              "      <th>deposit_new</th>\n",
              "    </tr>\n",
              "  </thead>\n",
              "  <tbody>\n",
              "    <tr>\n",
              "      <th>0</th>\n",
              "      <td>59</td>\n",
              "      <td>2343</td>\n",
              "      <td>5</td>\n",
              "      <td>1042</td>\n",
              "      <td>1</td>\n",
              "      <td>0</td>\n",
              "      <td>0</td>\n",
              "      <td>0</td>\n",
              "      <td>0</td>\n",
              "      <td>0</td>\n",
              "      <td>0</td>\n",
              "      <td>0</td>\n",
              "      <td>0</td>\n",
              "      <td>0</td>\n",
              "      <td>0</td>\n",
              "      <td>0</td>\n",
              "      <td>0</td>\n",
              "      <td>1</td>\n",
              "      <td>0</td>\n",
              "      <td>1</td>\n",
              "      <td>0</td>\n",
              "      <td>0</td>\n",
              "      <td>0</td>\n",
              "      <td>1</td>\n",
              "      <td>0</td>\n",
              "      <td>0</td>\n",
              "      <td>0</td>\n",
              "      <td>0</td>\n",
              "      <td>0</td>\n",
              "      <td>0</td>\n",
              "      <td>0</td>\n",
              "      <td>1</td>\n",
              "      <td>0</td>\n",
              "      <td>0</td>\n",
              "      <td>0</td>\n",
              "      <td>0</td>\n",
              "      <td>0</td>\n",
              "      <td>1</td>\n",
              "      <td>1</td>\n",
              "      <td>0</td>\n",
              "      <td>1</td>\n",
              "    </tr>\n",
              "    <tr>\n",
              "      <th>1</th>\n",
              "      <td>56</td>\n",
              "      <td>45</td>\n",
              "      <td>5</td>\n",
              "      <td>1467</td>\n",
              "      <td>1</td>\n",
              "      <td>0</td>\n",
              "      <td>0</td>\n",
              "      <td>0</td>\n",
              "      <td>0</td>\n",
              "      <td>0</td>\n",
              "      <td>0</td>\n",
              "      <td>0</td>\n",
              "      <td>0</td>\n",
              "      <td>0</td>\n",
              "      <td>0</td>\n",
              "      <td>0</td>\n",
              "      <td>0</td>\n",
              "      <td>1</td>\n",
              "      <td>0</td>\n",
              "      <td>1</td>\n",
              "      <td>0</td>\n",
              "      <td>0</td>\n",
              "      <td>0</td>\n",
              "      <td>1</td>\n",
              "      <td>0</td>\n",
              "      <td>0</td>\n",
              "      <td>0</td>\n",
              "      <td>0</td>\n",
              "      <td>0</td>\n",
              "      <td>0</td>\n",
              "      <td>0</td>\n",
              "      <td>1</td>\n",
              "      <td>0</td>\n",
              "      <td>0</td>\n",
              "      <td>0</td>\n",
              "      <td>0</td>\n",
              "      <td>0</td>\n",
              "      <td>1</td>\n",
              "      <td>0</td>\n",
              "      <td>0</td>\n",
              "      <td>1</td>\n",
              "    </tr>\n",
              "    <tr>\n",
              "      <th>2</th>\n",
              "      <td>41</td>\n",
              "      <td>1270</td>\n",
              "      <td>5</td>\n",
              "      <td>1389</td>\n",
              "      <td>1</td>\n",
              "      <td>0</td>\n",
              "      <td>0</td>\n",
              "      <td>0</td>\n",
              "      <td>0</td>\n",
              "      <td>0</td>\n",
              "      <td>0</td>\n",
              "      <td>0</td>\n",
              "      <td>0</td>\n",
              "      <td>0</td>\n",
              "      <td>1</td>\n",
              "      <td>0</td>\n",
              "      <td>0</td>\n",
              "      <td>1</td>\n",
              "      <td>0</td>\n",
              "      <td>1</td>\n",
              "      <td>0</td>\n",
              "      <td>0</td>\n",
              "      <td>0</td>\n",
              "      <td>1</td>\n",
              "      <td>0</td>\n",
              "      <td>0</td>\n",
              "      <td>0</td>\n",
              "      <td>0</td>\n",
              "      <td>0</td>\n",
              "      <td>0</td>\n",
              "      <td>0</td>\n",
              "      <td>1</td>\n",
              "      <td>0</td>\n",
              "      <td>0</td>\n",
              "      <td>0</td>\n",
              "      <td>0</td>\n",
              "      <td>0</td>\n",
              "      <td>1</td>\n",
              "      <td>1</td>\n",
              "      <td>0</td>\n",
              "      <td>1</td>\n",
              "    </tr>\n",
              "    <tr>\n",
              "      <th>3</th>\n",
              "      <td>55</td>\n",
              "      <td>2476</td>\n",
              "      <td>5</td>\n",
              "      <td>579</td>\n",
              "      <td>1</td>\n",
              "      <td>0</td>\n",
              "      <td>0</td>\n",
              "      <td>0</td>\n",
              "      <td>0</td>\n",
              "      <td>0</td>\n",
              "      <td>0</td>\n",
              "      <td>0</td>\n",
              "      <td>1</td>\n",
              "      <td>0</td>\n",
              "      <td>0</td>\n",
              "      <td>0</td>\n",
              "      <td>0</td>\n",
              "      <td>1</td>\n",
              "      <td>0</td>\n",
              "      <td>1</td>\n",
              "      <td>0</td>\n",
              "      <td>0</td>\n",
              "      <td>0</td>\n",
              "      <td>1</td>\n",
              "      <td>0</td>\n",
              "      <td>0</td>\n",
              "      <td>0</td>\n",
              "      <td>0</td>\n",
              "      <td>0</td>\n",
              "      <td>0</td>\n",
              "      <td>0</td>\n",
              "      <td>1</td>\n",
              "      <td>0</td>\n",
              "      <td>0</td>\n",
              "      <td>0</td>\n",
              "      <td>0</td>\n",
              "      <td>0</td>\n",
              "      <td>1</td>\n",
              "      <td>1</td>\n",
              "      <td>0</td>\n",
              "      <td>1</td>\n",
              "    </tr>\n",
              "    <tr>\n",
              "      <th>4</th>\n",
              "      <td>54</td>\n",
              "      <td>184</td>\n",
              "      <td>5</td>\n",
              "      <td>673</td>\n",
              "      <td>2</td>\n",
              "      <td>0</td>\n",
              "      <td>0</td>\n",
              "      <td>0</td>\n",
              "      <td>0</td>\n",
              "      <td>0</td>\n",
              "      <td>0</td>\n",
              "      <td>0</td>\n",
              "      <td>0</td>\n",
              "      <td>0</td>\n",
              "      <td>0</td>\n",
              "      <td>0</td>\n",
              "      <td>0</td>\n",
              "      <td>1</td>\n",
              "      <td>0</td>\n",
              "      <td>0</td>\n",
              "      <td>1</td>\n",
              "      <td>0</td>\n",
              "      <td>0</td>\n",
              "      <td>1</td>\n",
              "      <td>0</td>\n",
              "      <td>0</td>\n",
              "      <td>0</td>\n",
              "      <td>0</td>\n",
              "      <td>0</td>\n",
              "      <td>0</td>\n",
              "      <td>0</td>\n",
              "      <td>1</td>\n",
              "      <td>0</td>\n",
              "      <td>0</td>\n",
              "      <td>0</td>\n",
              "      <td>0</td>\n",
              "      <td>0</td>\n",
              "      <td>1</td>\n",
              "      <td>0</td>\n",
              "      <td>0</td>\n",
              "      <td>1</td>\n",
              "    </tr>\n",
              "  </tbody>\n",
              "</table>\n",
              "</div>"
            ],
            "text/plain": [
              "   age  balance  day  ...  housing_new  loan_new  deposit_new\n",
              "0   59     2343    5  ...            1         0            1\n",
              "1   56       45    5  ...            0         0            1\n",
              "2   41     1270    5  ...            1         0            1\n",
              "3   55     2476    5  ...            1         0            1\n",
              "4   54      184    5  ...            0         0            1\n",
              "\n",
              "[5 rows x 41 columns]"
            ]
          },
          "metadata": {
            "tags": []
          },
          "execution_count": 77
        }
      ]
    },
    {
      "cell_type": "markdown",
      "metadata": {
        "id": "1WRvRTH8gZuO"
      },
      "source": [
        "## **Splitting the Dataset into Training set and Test set**"
      ]
    },
    {
      "cell_type": "code",
      "metadata": {
        "id": "HNJF4zn5X-cy"
      },
      "source": [
        "# As we already know the best model can be built by having the training dataset to 70% and the testing dataset to around 30% we split accordingly.\n",
        "X = df4.drop(['deposit_new'],axis=1)\n",
        "y = df4['deposit_new']\n",
        "from sklearn.model_selection import train_test_split\n",
        "X_train, X_test, y_train, y_test = train_test_split(X,y,test_size=0.2, random_state=0)"
      ],
      "execution_count": null,
      "outputs": []
    },
    {
      "cell_type": "code",
      "metadata": {
        "colab": {
          "base_uri": "https://localhost:8080/"
        },
        "id": "aCQquqnJYA7f",
        "outputId": "8c198a80-8fcd-488e-867d-9d78938d60da"
      },
      "source": [
        "# The training set is about 70%.\n",
        "len(X_train)"
      ],
      "execution_count": null,
      "outputs": [
        {
          "output_type": "execute_result",
          "data": {
            "text/plain": [
              "8921"
            ]
          },
          "metadata": {
            "tags": []
          },
          "execution_count": 79
        }
      ]
    },
    {
      "cell_type": "code",
      "metadata": {
        "colab": {
          "base_uri": "https://localhost:8080/"
        },
        "id": "UCX4YjKQYDdG",
        "outputId": "ba5f6569-5bb4-4b84-fd60-1a9f21001c3c"
      },
      "source": [
        "# The testing set is about 30%.\n",
        "len(X_test)"
      ],
      "execution_count": null,
      "outputs": [
        {
          "output_type": "execute_result",
          "data": {
            "text/plain": [
              "2231"
            ]
          },
          "metadata": {
            "tags": []
          },
          "execution_count": 80
        }
      ]
    },
    {
      "cell_type": "code",
      "metadata": {
        "id": "WJ-EuOHSYGAv"
      },
      "source": [
        "# Now let us try to use below two models that are RandomForestClassifier and XGBClassifier and compare them.\n",
        "from sklearn.ensemble import RandomForestClassifier\n",
        "from xgboost import XGBClassifier\n",
        "from sklearn.model_selection import GridSearchCV"
      ],
      "execution_count": null,
      "outputs": []
    },
    {
      "cell_type": "code",
      "metadata": {
        "id": "ns3thsnquEgD"
      },
      "source": [
        "from xgboost import XGBClassifier\n"
      ],
      "execution_count": null,
      "outputs": []
    },
    {
      "cell_type": "code",
      "metadata": {
        "colab": {
          "base_uri": "https://localhost:8080/"
        },
        "id": "D97fGJMTYIdM",
        "outputId": "2450f406-6389-4154-874e-2e83d83cc255"
      },
      "source": [
        "# Result for RandomForestClassifier.\n",
        "from sklearn.model_selection import cross_val_score\n",
        "model_score =cross_val_score(estimator=RandomForestClassifier(),X=X_train, y=y_train, cv=5)\n",
        "print(model_score)\n",
        "print(model_score.mean())"
      ],
      "execution_count": null,
      "outputs": [
        {
          "output_type": "stream",
          "text": [
            "[0.85938375 0.84529148 0.84697309 0.85482063 0.85257848]\n",
            "0.851809486126289\n"
          ],
          "name": "stdout"
        }
      ]
    },
    {
      "cell_type": "code",
      "metadata": {
        "colab": {
          "base_uri": "https://localhost:8080/"
        },
        "id": "X5RrJnpJYMQD",
        "outputId": "0fe15356-82d2-47e6-cf03-09594f8cbd29"
      },
      "source": [
        "# Result for XGBClassifier.\n",
        "from sklearn.model_selection import cross_val_score\n",
        "model_score =cross_val_score(estimator=XGBClassifier(),X=X_train, y=y_train, cv=5)\n",
        "print(model_score)\n",
        "print(model_score.mean())"
      ],
      "execution_count": null,
      "outputs": [
        {
          "output_type": "stream",
          "text": [
            "[0.85266106 0.83912556 0.8323991  0.84248879 0.8559417 ]\n",
            "0.8445232442752886\n"
          ],
          "name": "stdout"
        }
      ]
    },
    {
      "cell_type": "code",
      "metadata": {
        "id": "Z-LM_YLDYQXG"
      },
      "source": [
        "#creating parameters with different depths and estimations and comparing the results for both the approaches.\n",
        "\n",
        "model_param = {\n",
        "    'RandomForestClassifier':{\n",
        "        'model':RandomForestClassifier(),\n",
        "        'param':{\n",
        "            'n_estimators': [10, 50, 100, 130], \n",
        "            'criterion': ['gini', 'entropy'],\n",
        "            'max_depth': range(2, 4, 1), \n",
        "            'max_features': ['auto', 'log2']\n",
        "        }\n",
        "    },\n",
        "    'XGBClassifier':{\n",
        "        'model':XGBClassifier(objective='binary:logistic'),\n",
        "        'param':{\n",
        "           'learning_rate': [0.5, 0.1, 0.01, 0.001],\n",
        "            'max_depth': [3, 5, 10, 20],\n",
        "            'n_estimators': [10, 50, 100, 200]\n",
        "        }\n",
        "    }\n",
        "}"
      ],
      "execution_count": null,
      "outputs": []
    },
    {
      "cell_type": "code",
      "metadata": {
        "id": "s1R32XUBYURm"
      },
      "source": [
        "# gridsearch for finding the best and more accurate method.\n",
        "scores =[]\n",
        "for model_name, mp in model_param.items():\n",
        "    model_selection = GridSearchCV(estimator=mp['model'],param_grid=mp['param'],cv=5,return_train_score=False)\n",
        "    model_selection.fit(X,y)\n",
        "    scores.append({\n",
        "        'model': model_name,\n",
        "        'best_score': model_selection.best_score_,\n",
        "        'best_params': model_selection.best_params_\n",
        "    })"
      ],
      "execution_count": null,
      "outputs": []
    },
    {
      "cell_type": "code",
      "metadata": {
        "colab": {
          "base_uri": "https://localhost:8080/"
        },
        "id": "WzjHc0euZXV5",
        "outputId": "dfcb266b-45bb-40d0-af23-031179236d9d"
      },
      "source": [
        "# Displaying the best scores obtained by both the approaces.\n",
        "scores"
      ],
      "execution_count": null,
      "outputs": [
        {
          "output_type": "execute_result",
          "data": {
            "text/plain": [
              "[{'best_params': {'criterion': 'entropy',\n",
              "   'max_depth': 2,\n",
              "   'max_features': 'auto',\n",
              "   'n_estimators': 10},\n",
              "  'best_score': 0.7404107229358832,\n",
              "  'model': 'RandomForestClassifier'},\n",
              " {'best_params': {'learning_rate': 0.1, 'max_depth': 10, 'n_estimators': 100},\n",
              "  'best_score': 0.8154667717225481,\n",
              "  'model': 'XGBClassifier'}]"
            ]
          },
          "metadata": {
            "tags": []
          },
          "execution_count": 93
        }
      ]
    },
    {
      "cell_type": "code",
      "metadata": {
        "id": "zGYmCsI8Zcgf"
      },
      "source": [
        "# as per above results, xgboost gives best result and hence selecting same to build our model.\n",
        "model_xgb = XGBClassifier(objective='binary:logistic',learning_rate=0.1,max_depth=10,n_estimators=100)"
      ],
      "execution_count": null,
      "outputs": []
    },
    {
      "cell_type": "code",
      "metadata": {
        "colab": {
          "base_uri": "https://localhost:8080/"
        },
        "id": "YPin8J3LZnNe",
        "outputId": "4d433011-1f75-4f16-fa89-eb859ca2eb16"
      },
      "source": [
        "model_xgb.fit(X_train,y_train)"
      ],
      "execution_count": null,
      "outputs": [
        {
          "output_type": "execute_result",
          "data": {
            "text/plain": [
              "XGBClassifier(base_score=0.5, booster='gbtree', colsample_bylevel=1,\n",
              "              colsample_bynode=1, colsample_bytree=1, gamma=0,\n",
              "              learning_rate=0.1, max_delta_step=0, max_depth=10,\n",
              "              min_child_weight=1, missing=None, n_estimators=100, n_jobs=1,\n",
              "              nthread=None, objective='binary:logistic', random_state=0,\n",
              "              reg_alpha=0, reg_lambda=1, scale_pos_weight=1, seed=None,\n",
              "              silent=None, subsample=1, verbosity=1)"
            ]
          },
          "metadata": {
            "tags": []
          },
          "execution_count": 87
        }
      ]
    },
    {
      "cell_type": "code",
      "metadata": {
        "colab": {
          "base_uri": "https://localhost:8080/"
        },
        "id": "HV27nq5KZsR2",
        "outputId": "6da201d5-6171-4d5a-a3de-bc4711946282"
      },
      "source": [
        "model_xgb.score(X_test,y_test)"
      ],
      "execution_count": null,
      "outputs": [
        {
          "output_type": "execute_result",
          "data": {
            "text/plain": [
              "0.8583594800537876"
            ]
          },
          "metadata": {
            "tags": []
          },
          "execution_count": 88
        }
      ]
    },
    {
      "cell_type": "code",
      "metadata": {
        "colab": {
          "base_uri": "https://localhost:8080/",
          "height": 541
        },
        "id": "Dnc_jZ2rZvtJ",
        "outputId": "53b2d964-5fac-46e2-ffa6-a41af7130b08"
      },
      "source": [
        "# getting feature importances from the model.\n",
        "headers = [\"name\", \"score\"]\n",
        "values = sorted(zip(X_train.columns, model_xgb.feature_importances_), key=lambda x: x[1] * -1)\n",
        "xgb_feature_importances = pd.DataFrame(values, columns = headers)\n",
        "\n",
        "# plot feature importances\n",
        "fig = plt.figure(figsize=(15,7))\n",
        "x_pos = np.arange(0, len(xgb_feature_importances))\n",
        "plt.bar(x_pos, xgb_feature_importances['score'])\n",
        "plt.xticks(x_pos, xgb_feature_importances['name'])\n",
        "plt.xticks(rotation=90)\n",
        "plt.title('Feature importances (XGB)')\n",
        "\n",
        "plt.show()"
      ],
      "execution_count": null,
      "outputs": [
        {
          "output_type": "display_data",
          "data": {
            "image/png": "[encoded data removed]",
            "text/plain": [
              "<Figure size 1080x504 with 1 Axes>"
            ]
          },
          "metadata": {
            "tags": [],
            "needs_background": "light"
          }
        }
      ]
    },
    {
      "cell_type": "code",
      "metadata": {
        "colab": {
          "base_uri": "https://localhost:8080/"
        },
        "id": "1lqtzw7iZzpT",
        "outputId": "d2426a2c-bcad-405c-c5ce-5684f52e040d"
      },
      "source": [
        "# Confusion Matrix representation.\n",
        "from sklearn.metrics import confusion_matrix\n",
        "cm = confusion_matrix(y_test,model_xgb.predict(X_test))\n",
        "cm"
      ],
      "execution_count": null,
      "outputs": [
        {
          "output_type": "execute_result",
          "data": {
            "text/plain": [
              "array([[988, 191],\n",
              "       [125, 927]])"
            ]
          },
          "metadata": {
            "tags": []
          },
          "execution_count": 90
        }
      ]
    },
    {
      "cell_type": "code",
      "metadata": {
        "colab": {
          "base_uri": "https://localhost:8080/",
          "height": 279
        },
        "id": "UTwlZZKVZ2rx",
        "outputId": "6b27ca5e-7c5d-4b1b-fbde-3fa08ee50b46"
      },
      "source": [
        "# plotting the graph for confusion matrix.\n",
        "from matplotlib import pyplot as plt\n",
        "import seaborn as sn\n",
        "sn.heatmap(cm, annot=True)\n",
        "plt.xlabel('Predicted')\n",
        "plt.ylabel('True Value')\n",
        "plt.show()"
      ],
      "execution_count": null,
      "outputs": [
        {
          "output_type": "display_data",
          "data": {
            "image/png": "[encoded data removed]",
            "text/plain": [
              "<Figure size 432x288 with 2 Axes>"
            ]
          },
          "metadata": {
            "tags": [],
            "needs_background": "light"
          }
        }
      ]
    }
  ]
}